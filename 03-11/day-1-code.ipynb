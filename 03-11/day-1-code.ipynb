{
 "metadata": {
  "language_info": {
   "codemirror_mode": {
    "name": "ipython",
    "version": 3
   },
   "file_extension": ".py",
   "mimetype": "text/x-python",
   "name": "python",
   "nbconvert_exporter": "python",
   "pygments_lexer": "ipython3",
   "version": "3.7.7-final"
  },
  "orig_nbformat": 2,
  "kernelspec": {
   "name": "python3",
   "display_name": "Python 3.7.7 64-bit (conda)",
   "metadata": {
    "interpreter": {
     "hash": "4ba962433ce634cde499a2def155867a3065a4841db75053b162653b9c20e813"
    }
   }
  }
 },
 "nbformat": 4,
 "nbformat_minor": 2,
 "cells": [
  {
   "source": [
    "import pandas as pd\n"
   ],
   "cell_type": "code",
   "metadata": {},
   "execution_count": 62,
   "outputs": []
  },
  {
   "cell_type": "code",
   "execution_count": 63,
   "metadata": {},
   "outputs": [
    {
     "output_type": "execute_result",
     "data": {
      "text/plain": [
       "   Reservation-id Gender  Age         Ethnicity Educational_Level  \\\n",
       "0        39428300      F   40            Latino              Grad   \n",
       "1        77491756      F   49            Latino        Mid-School   \n",
       "2        73747291      F   42         caucasian              Grad   \n",
       "3        67301739      M   25  African American           College   \n",
       "4        77222321      F   62            Latino       High-School   \n",
       "5        55152245      M   34  African American           College   \n",
       "6        87139343      F   53  African American       High-School   \n",
       "7         7647912      M   40            Latino        Mid-School   \n",
       "8        94296865      M   59  African American        Mid-School   \n",
       "9        93087487      M   21            Latino              Grad   \n",
       "\n",
       "        Income Country_region      Hotel_Type Expected_checkin  \\\n",
       "0         <25K          North      City Hotel         7/1/2015   \n",
       "1  50K -- 100K           East      City Hotel         7/1/2015   \n",
       "2         <25K           East      City Hotel         7/2/2015   \n",
       "3        >100K          South  Airport Hotels         7/2/2015   \n",
       "4    25K --50K           East          Resort         7/3/2015   \n",
       "5        >100K          North  Airport Hotels         7/3/2015   \n",
       "6         <25K           East  Airport Hotels         7/3/2015   \n",
       "7        >100K          North      City Hotel         7/3/2015   \n",
       "8        >100K           West          Resort         5/6/2015   \n",
       "9  50K -- 100K           West      City Hotel        4/22/2015   \n",
       "\n",
       "  Expected_checkout  ... Meal_Type  Visted_Previously  Previous_Cancellations  \\\n",
       "0          7/2/2015  ...        BB                 No                      No   \n",
       "1          7/2/2015  ...        BB                 No                      No   \n",
       "2          7/6/2015  ...        BB                 No                      No   \n",
       "3          7/3/2015  ...        BB                 No                      No   \n",
       "4          7/4/2015  ...        BB                 No                      No   \n",
       "5          7/4/2015  ...        BB                Yes                      No   \n",
       "6          7/4/2015  ...        BB                Yes                     Yes   \n",
       "7          7/4/2015  ...        FB                 No                      No   \n",
       "8          5/7/2015  ...        BB                 No                      No   \n",
       "9         4/25/2015  ...        HB                Yes                      No   \n",
       "\n",
       "     Deposit_type Booking_channel Required_Car_Parking Reservation_Status  \\\n",
       "0      No Deposit          Online                  Yes           Check-In   \n",
       "1      Refundable          Online                  Yes           Check-In   \n",
       "2      No Deposit          Online                  Yes           Check-In   \n",
       "3      Refundable           Agent                  Yes           Check-In   \n",
       "4      No Deposit          Direct                   No           Check-In   \n",
       "5      No Deposit          Online                   No           Check-In   \n",
       "6      Refundable          Online                  Yes           Check-In   \n",
       "7      No Deposit          Online                  Yes           Check-In   \n",
       "8  Non-Refundable          Direct                  Yes           Check-In   \n",
       "9      Refundable          Online                   No           Check-In   \n",
       "\n",
       "  Use_Promotion Discount_Rate Room_Rate  \n",
       "0           Yes            10       218  \n",
       "1            No             0       185  \n",
       "2            No             0       119  \n",
       "3           Yes             5       144  \n",
       "4           Yes            10       242  \n",
       "5           Yes            10       143  \n",
       "6           Yes            25       212  \n",
       "7            No             0       170  \n",
       "8           Yes            10       245  \n",
       "9           Yes            20       212  \n",
       "\n",
       "[10 rows x 24 columns]"
      ],
      "text/html": "<div>\n<style scoped>\n    .dataframe tbody tr th:only-of-type {\n        vertical-align: middle;\n    }\n\n    .dataframe tbody tr th {\n        vertical-align: top;\n    }\n\n    .dataframe thead th {\n        text-align: right;\n    }\n</style>\n<table border=\"1\" class=\"dataframe\">\n  <thead>\n    <tr style=\"text-align: right;\">\n      <th></th>\n      <th>Reservation-id</th>\n      <th>Gender</th>\n      <th>Age</th>\n      <th>Ethnicity</th>\n      <th>Educational_Level</th>\n      <th>Income</th>\n      <th>Country_region</th>\n      <th>Hotel_Type</th>\n      <th>Expected_checkin</th>\n      <th>Expected_checkout</th>\n      <th>...</th>\n      <th>Meal_Type</th>\n      <th>Visted_Previously</th>\n      <th>Previous_Cancellations</th>\n      <th>Deposit_type</th>\n      <th>Booking_channel</th>\n      <th>Required_Car_Parking</th>\n      <th>Reservation_Status</th>\n      <th>Use_Promotion</th>\n      <th>Discount_Rate</th>\n      <th>Room_Rate</th>\n    </tr>\n  </thead>\n  <tbody>\n    <tr>\n      <th>0</th>\n      <td>39428300</td>\n      <td>F</td>\n      <td>40</td>\n      <td>Latino</td>\n      <td>Grad</td>\n      <td>&lt;25K</td>\n      <td>North</td>\n      <td>City Hotel</td>\n      <td>7/1/2015</td>\n      <td>7/2/2015</td>\n      <td>...</td>\n      <td>BB</td>\n      <td>No</td>\n      <td>No</td>\n      <td>No Deposit</td>\n      <td>Online</td>\n      <td>Yes</td>\n      <td>Check-In</td>\n      <td>Yes</td>\n      <td>10</td>\n      <td>218</td>\n    </tr>\n    <tr>\n      <th>1</th>\n      <td>77491756</td>\n      <td>F</td>\n      <td>49</td>\n      <td>Latino</td>\n      <td>Mid-School</td>\n      <td>50K -- 100K</td>\n      <td>East</td>\n      <td>City Hotel</td>\n      <td>7/1/2015</td>\n      <td>7/2/2015</td>\n      <td>...</td>\n      <td>BB</td>\n      <td>No</td>\n      <td>No</td>\n      <td>Refundable</td>\n      <td>Online</td>\n      <td>Yes</td>\n      <td>Check-In</td>\n      <td>No</td>\n      <td>0</td>\n      <td>185</td>\n    </tr>\n    <tr>\n      <th>2</th>\n      <td>73747291</td>\n      <td>F</td>\n      <td>42</td>\n      <td>caucasian</td>\n      <td>Grad</td>\n      <td>&lt;25K</td>\n      <td>East</td>\n      <td>City Hotel</td>\n      <td>7/2/2015</td>\n      <td>7/6/2015</td>\n      <td>...</td>\n      <td>BB</td>\n      <td>No</td>\n      <td>No</td>\n      <td>No Deposit</td>\n      <td>Online</td>\n      <td>Yes</td>\n      <td>Check-In</td>\n      <td>No</td>\n      <td>0</td>\n      <td>119</td>\n    </tr>\n    <tr>\n      <th>3</th>\n      <td>67301739</td>\n      <td>M</td>\n      <td>25</td>\n      <td>African American</td>\n      <td>College</td>\n      <td>&gt;100K</td>\n      <td>South</td>\n      <td>Airport Hotels</td>\n      <td>7/2/2015</td>\n      <td>7/3/2015</td>\n      <td>...</td>\n      <td>BB</td>\n      <td>No</td>\n      <td>No</td>\n      <td>Refundable</td>\n      <td>Agent</td>\n      <td>Yes</td>\n      <td>Check-In</td>\n      <td>Yes</td>\n      <td>5</td>\n      <td>144</td>\n    </tr>\n    <tr>\n      <th>4</th>\n      <td>77222321</td>\n      <td>F</td>\n      <td>62</td>\n      <td>Latino</td>\n      <td>High-School</td>\n      <td>25K --50K</td>\n      <td>East</td>\n      <td>Resort</td>\n      <td>7/3/2015</td>\n      <td>7/4/2015</td>\n      <td>...</td>\n      <td>BB</td>\n      <td>No</td>\n      <td>No</td>\n      <td>No Deposit</td>\n      <td>Direct</td>\n      <td>No</td>\n      <td>Check-In</td>\n      <td>Yes</td>\n      <td>10</td>\n      <td>242</td>\n    </tr>\n    <tr>\n      <th>5</th>\n      <td>55152245</td>\n      <td>M</td>\n      <td>34</td>\n      <td>African American</td>\n      <td>College</td>\n      <td>&gt;100K</td>\n      <td>North</td>\n      <td>Airport Hotels</td>\n      <td>7/3/2015</td>\n      <td>7/4/2015</td>\n      <td>...</td>\n      <td>BB</td>\n      <td>Yes</td>\n      <td>No</td>\n      <td>No Deposit</td>\n      <td>Online</td>\n      <td>No</td>\n      <td>Check-In</td>\n      <td>Yes</td>\n      <td>10</td>\n      <td>143</td>\n    </tr>\n    <tr>\n      <th>6</th>\n      <td>87139343</td>\n      <td>F</td>\n      <td>53</td>\n      <td>African American</td>\n      <td>High-School</td>\n      <td>&lt;25K</td>\n      <td>East</td>\n      <td>Airport Hotels</td>\n      <td>7/3/2015</td>\n      <td>7/4/2015</td>\n      <td>...</td>\n      <td>BB</td>\n      <td>Yes</td>\n      <td>Yes</td>\n      <td>Refundable</td>\n      <td>Online</td>\n      <td>Yes</td>\n      <td>Check-In</td>\n      <td>Yes</td>\n      <td>25</td>\n      <td>212</td>\n    </tr>\n    <tr>\n      <th>7</th>\n      <td>7647912</td>\n      <td>M</td>\n      <td>40</td>\n      <td>Latino</td>\n      <td>Mid-School</td>\n      <td>&gt;100K</td>\n      <td>North</td>\n      <td>City Hotel</td>\n      <td>7/3/2015</td>\n      <td>7/4/2015</td>\n      <td>...</td>\n      <td>FB</td>\n      <td>No</td>\n      <td>No</td>\n      <td>No Deposit</td>\n      <td>Online</td>\n      <td>Yes</td>\n      <td>Check-In</td>\n      <td>No</td>\n      <td>0</td>\n      <td>170</td>\n    </tr>\n    <tr>\n      <th>8</th>\n      <td>94296865</td>\n      <td>M</td>\n      <td>59</td>\n      <td>African American</td>\n      <td>Mid-School</td>\n      <td>&gt;100K</td>\n      <td>West</td>\n      <td>Resort</td>\n      <td>5/6/2015</td>\n      <td>5/7/2015</td>\n      <td>...</td>\n      <td>BB</td>\n      <td>No</td>\n      <td>No</td>\n      <td>Non-Refundable</td>\n      <td>Direct</td>\n      <td>Yes</td>\n      <td>Check-In</td>\n      <td>Yes</td>\n      <td>10</td>\n      <td>245</td>\n    </tr>\n    <tr>\n      <th>9</th>\n      <td>93087487</td>\n      <td>M</td>\n      <td>21</td>\n      <td>Latino</td>\n      <td>Grad</td>\n      <td>50K -- 100K</td>\n      <td>West</td>\n      <td>City Hotel</td>\n      <td>4/22/2015</td>\n      <td>4/25/2015</td>\n      <td>...</td>\n      <td>HB</td>\n      <td>Yes</td>\n      <td>No</td>\n      <td>Refundable</td>\n      <td>Online</td>\n      <td>No</td>\n      <td>Check-In</td>\n      <td>Yes</td>\n      <td>20</td>\n      <td>212</td>\n    </tr>\n  </tbody>\n</table>\n<p>10 rows × 24 columns</p>\n</div>"
     },
     "metadata": {},
     "execution_count": 63
    }
   ],
   "source": [
    "train_data = pd.read_csv('../Data/Hotel-A-train.csv')\n",
    "\n",
    "validation_data = pd.read_csv('../Data/Hotel-A-validation.csv')\n",
    "\n",
    "train_data.head(10)"
   ]
  },
  {
   "cell_type": "code",
   "execution_count": 64,
   "metadata": {},
   "outputs": [
    {
     "output_type": "execute_result",
     "data": {
      "text/plain": [
       "['Reservation-id',\n",
       " 'Gender',\n",
       " 'Age',\n",
       " 'Ethnicity',\n",
       " 'Educational_Level',\n",
       " 'Income',\n",
       " 'Country_region',\n",
       " 'Hotel_Type',\n",
       " 'Expected_checkin',\n",
       " 'Expected_checkout',\n",
       " 'Booking_date',\n",
       " 'Adults',\n",
       " 'Children',\n",
       " 'Babies',\n",
       " 'Meal_Type',\n",
       " 'Visted_Previously',\n",
       " 'Previous_Cancellations',\n",
       " 'Deposit_type',\n",
       " 'Booking_channel',\n",
       " 'Required_Car_Parking',\n",
       " 'Reservation_Status',\n",
       " 'Use_Promotion',\n",
       " 'Discount_Rate',\n",
       " 'Room_Rate']"
      ]
     },
     "metadata": {},
     "execution_count": 64
    }
   ],
   "source": [
    "train_headers = list(train_data.columns)\n",
    "train_headers"
   ]
  },
  {
   "cell_type": "code",
   "execution_count": 95,
   "metadata": {},
   "outputs": [
    {
     "output_type": "execute_result",
     "data": {
      "text/plain": [
       "   Reservation_Status_Canceled  Reservation_Status_Check-In  \\\n",
       "0                            0                            1   \n",
       "1                            0                            1   \n",
       "2                            0                            1   \n",
       "3                            0                            1   \n",
       "4                            0                            1   \n",
       "5                            0                            1   \n",
       "6                            0                            1   \n",
       "7                            0                            1   \n",
       "8                            0                            1   \n",
       "9                            0                            1   \n",
       "\n",
       "   Reservation_Status_No-Show  \n",
       "0                           0  \n",
       "1                           0  \n",
       "2                           0  \n",
       "3                           0  \n",
       "4                           0  \n",
       "5                           0  \n",
       "6                           0  \n",
       "7                           0  \n",
       "8                           0  \n",
       "9                           0  "
      ],
      "text/html": "<div>\n<style scoped>\n    .dataframe tbody tr th:only-of-type {\n        vertical-align: middle;\n    }\n\n    .dataframe tbody tr th {\n        vertical-align: top;\n    }\n\n    .dataframe thead th {\n        text-align: right;\n    }\n</style>\n<table border=\"1\" class=\"dataframe\">\n  <thead>\n    <tr style=\"text-align: right;\">\n      <th></th>\n      <th>Reservation_Status_Canceled</th>\n      <th>Reservation_Status_Check-In</th>\n      <th>Reservation_Status_No-Show</th>\n    </tr>\n  </thead>\n  <tbody>\n    <tr>\n      <th>0</th>\n      <td>0</td>\n      <td>1</td>\n      <td>0</td>\n    </tr>\n    <tr>\n      <th>1</th>\n      <td>0</td>\n      <td>1</td>\n      <td>0</td>\n    </tr>\n    <tr>\n      <th>2</th>\n      <td>0</td>\n      <td>1</td>\n      <td>0</td>\n    </tr>\n    <tr>\n      <th>3</th>\n      <td>0</td>\n      <td>1</td>\n      <td>0</td>\n    </tr>\n    <tr>\n      <th>4</th>\n      <td>0</td>\n      <td>1</td>\n      <td>0</td>\n    </tr>\n    <tr>\n      <th>5</th>\n      <td>0</td>\n      <td>1</td>\n      <td>0</td>\n    </tr>\n    <tr>\n      <th>6</th>\n      <td>0</td>\n      <td>1</td>\n      <td>0</td>\n    </tr>\n    <tr>\n      <th>7</th>\n      <td>0</td>\n      <td>1</td>\n      <td>0</td>\n    </tr>\n    <tr>\n      <th>8</th>\n      <td>0</td>\n      <td>1</td>\n      <td>0</td>\n    </tr>\n    <tr>\n      <th>9</th>\n      <td>0</td>\n      <td>1</td>\n      <td>0</td>\n    </tr>\n  </tbody>\n</table>\n</div>"
     },
     "metadata": {},
     "execution_count": 95
    }
   ],
   "source": [
    "cat_data = ['Gender','Ethnicity','Educational_Level','Income','Country_region','Hotel_Type','Meal_Type','Visted_Previously','Previous_Cancellations','Deposit_type','Booking_channel','Required_Car_Parking','Reservation_Status','Use_Promotion']\n",
    "\n",
    "drop_data = ['Reservation-id','Expected_checkin', 'Expected_checkout', 'Booking_date']\n",
    "\n",
    "y_columns = ['Reservation_Status_Canceled','Reservation_Status_Check-In','Reservation_Status_No-Show']\n",
    "\n",
    "def format_data(data_set, is_test=False):\n",
    "    if(is_test):\n",
    "        if 'Reservation_Status' in cat_data:\n",
    "            cat_data.remove('Reservation_Status')\n",
    "        f_data_set = pd.get_dummies(data_set, prefix=cat_data, columns=cat_data)\n",
    "        f_data_set = f_data_set.drop(drop_data, axis = 1) \n",
    "        x = f_data_set\n",
    "        return x\n",
    "    else:\n",
    "        f_data_set = pd.get_dummies(data_set, prefix=cat_data, columns=cat_data)\n",
    "        f_data_set = f_data_set.drop(drop_data, axis = 1) \n",
    "        x = f_data_set.drop(y_columns, axis = 1)\n",
    "        y = f_data_set[y_columns]\n",
    "        return x, y\n",
    "\n",
    "\n",
    "x_train, y_train = format_data(train_data)\n",
    "\n",
    "y_train.head(10)"
   ]
  },
  {
   "cell_type": "code",
   "execution_count": 81,
   "metadata": {},
   "outputs": [
    {
     "output_type": "execute_result",
     "data": {
      "text/plain": [
       "0.5307384503455802"
      ]
     },
     "metadata": {},
     "execution_count": 81
    }
   ],
   "source": [
    "from sklearn.ensemble import RandomForestClassifier\n",
    "\n",
    "classifier = RandomForestClassifier(n_estimators=20, random_state=0)\n",
    "classifier.fit(x_train, y_train)\n",
    "\n",
    "x_val, y_val = format_data(validation_data)\n",
    "\n",
    "classifier.score(x_val, y_val)"
   ]
  },
  {
   "cell_type": "code",
   "execution_count": 82,
   "metadata": {},
   "outputs": [],
   "source": [
    "y_pred = classifier.predict(x_val)"
   ]
  },
  {
   "cell_type": "code",
   "execution_count": 83,
   "metadata": {},
   "outputs": [
    {
     "output_type": "execute_result",
     "data": {
      "text/plain": [
       "0.24020743422060029"
      ]
     },
     "metadata": {},
     "execution_count": 83
    }
   ],
   "source": [
    "from sklearn.metrics import f1_score \n",
    "f1_score(y_val, y_pred, average='macro')"
   ]
  },
  {
   "cell_type": "code",
   "execution_count": 85,
   "metadata": {},
   "outputs": [
    {
     "output_type": "execute_result",
     "data": {
      "text/plain": [
       "array([[0, 1, 0],\n",
       "       [0, 0, 0],\n",
       "       [0, 1, 0],\n",
       "       ...,\n",
       "       [0, 1, 0],\n",
       "       [0, 1, 0],\n",
       "       [0, 1, 0]], dtype=uint8)"
      ]
     },
     "metadata": {},
     "execution_count": 85
    }
   ],
   "source": [
    "test_data = pd.read_csv('../Data/Hotel-A-test.csv')\n",
    "\n",
    "x_test = format_data(test_data, is_test=True)\n",
    "y_test = classifier.predict(x_test)\n",
    "\n",
    "y_test\n"
   ]
  },
  {
   "cell_type": "code",
   "execution_count": 119,
   "metadata": {},
   "outputs": [],
   "source": [
    "\n",
    "df = pd.DataFrame(y_test, columns=[2,1,3]).idxmax(axis=1)\n",
    "df.index = test_data['Reservation-id']\n",
    "df.to_csv('results/Submission.csv', header=['Reservation_status'])\n"
   ]
  },
  {
   "cell_type": "code",
   "execution_count": null,
   "metadata": {},
   "outputs": [],
   "source": []
  }
 ]
}