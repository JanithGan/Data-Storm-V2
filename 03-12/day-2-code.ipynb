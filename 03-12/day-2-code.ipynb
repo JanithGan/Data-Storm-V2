{
 "metadata": {
  "language_info": {
   "codemirror_mode": {
    "name": "ipython",
    "version": 3
   },
   "file_extension": ".py",
   "mimetype": "text/x-python",
   "name": "python",
   "nbconvert_exporter": "python",
   "pygments_lexer": "ipython3",
   "version": "3.7.7-final"
  },
  "orig_nbformat": 2,
  "kernelspec": {
   "name": "python3",
   "display_name": "Python 3.7.7 64-bit (conda)",
   "metadata": {
    "interpreter": {
     "hash": "4ba962433ce634cde499a2def155867a3065a4841db75053b162653b9c20e813"
    }
   }
  }
 },
 "nbformat": 4,
 "nbformat_minor": 2,
 "cells": [
  {
   "source": [
    "# DataStorm 2.0"
   ],
   "cell_type": "markdown",
   "metadata": {}
  },
  {
   "source": [
    "## Import Libraries"
   ],
   "cell_type": "markdown",
   "metadata": {}
  },
  {
   "source": [
    "import pandas as pd"
   ],
   "cell_type": "code",
   "metadata": {},
   "execution_count": 2,
   "outputs": []
  },
  {
   "source": [
    "## Import Data Sets"
   ],
   "cell_type": "markdown",
   "metadata": {}
  },
  {
   "source": [
    "train_data = pd.read_csv('../Data/Hotel-A-train.csv')\n",
    "\n",
    "validation_data = pd.read_csv('../Data/Hotel-A-validation.csv')\n",
    "\n",
    "test_data = pd.read_csv('../Data/Hotel-A-test.csv')\n",
    "\n",
    "train_data.head(10)"
   ],
   "cell_type": "code",
   "metadata": {},
   "execution_count": 3,
   "outputs": [
    {
     "output_type": "execute_result",
     "data": {
      "text/plain": [
       "   Reservation-id Gender  Age         Ethnicity Educational_Level  \\\n",
       "0        39428300      F   40            Latino              Grad   \n",
       "1        77491756      F   49            Latino        Mid-School   \n",
       "2        73747291      F   42         caucasian              Grad   \n",
       "3        67301739      M   25  African American           College   \n",
       "4        77222321      F   62            Latino       High-School   \n",
       "5        55152245      M   34  African American           College   \n",
       "6        87139343      F   53  African American       High-School   \n",
       "7         7647912      M   40            Latino        Mid-School   \n",
       "8        94296865      M   59  African American        Mid-School   \n",
       "9        93087487      M   21            Latino              Grad   \n",
       "\n",
       "        Income Country_region      Hotel_Type Expected_checkin  \\\n",
       "0         <25K          North      City Hotel         7/1/2015   \n",
       "1  50K -- 100K           East      City Hotel         7/1/2015   \n",
       "2         <25K           East      City Hotel         7/2/2015   \n",
       "3        >100K          South  Airport Hotels         7/2/2015   \n",
       "4    25K --50K           East          Resort         7/3/2015   \n",
       "5        >100K          North  Airport Hotels         7/3/2015   \n",
       "6         <25K           East  Airport Hotels         7/3/2015   \n",
       "7        >100K          North      City Hotel         7/3/2015   \n",
       "8        >100K           West          Resort         5/6/2015   \n",
       "9  50K -- 100K           West      City Hotel        4/22/2015   \n",
       "\n",
       "  Expected_checkout  ... Meal_Type  Visted_Previously  Previous_Cancellations  \\\n",
       "0          7/2/2015  ...        BB                 No                      No   \n",
       "1          7/2/2015  ...        BB                 No                      No   \n",
       "2          7/6/2015  ...        BB                 No                      No   \n",
       "3          7/3/2015  ...        BB                 No                      No   \n",
       "4          7/4/2015  ...        BB                 No                      No   \n",
       "5          7/4/2015  ...        BB                Yes                      No   \n",
       "6          7/4/2015  ...        BB                Yes                     Yes   \n",
       "7          7/4/2015  ...        FB                 No                      No   \n",
       "8          5/7/2015  ...        BB                 No                      No   \n",
       "9         4/25/2015  ...        HB                Yes                      No   \n",
       "\n",
       "     Deposit_type Booking_channel Required_Car_Parking Reservation_Status  \\\n",
       "0      No Deposit          Online                  Yes           Check-In   \n",
       "1      Refundable          Online                  Yes           Check-In   \n",
       "2      No Deposit          Online                  Yes           Check-In   \n",
       "3      Refundable           Agent                  Yes           Check-In   \n",
       "4      No Deposit          Direct                   No           Check-In   \n",
       "5      No Deposit          Online                   No           Check-In   \n",
       "6      Refundable          Online                  Yes           Check-In   \n",
       "7      No Deposit          Online                  Yes           Check-In   \n",
       "8  Non-Refundable          Direct                  Yes           Check-In   \n",
       "9      Refundable          Online                   No           Check-In   \n",
       "\n",
       "  Use_Promotion Discount_Rate Room_Rate  \n",
       "0           Yes            10       218  \n",
       "1            No             0       185  \n",
       "2            No             0       119  \n",
       "3           Yes             5       144  \n",
       "4           Yes            10       242  \n",
       "5           Yes            10       143  \n",
       "6           Yes            25       212  \n",
       "7            No             0       170  \n",
       "8           Yes            10       245  \n",
       "9           Yes            20       212  \n",
       "\n",
       "[10 rows x 24 columns]"
      ],
      "text/html": "<div>\n<style scoped>\n    .dataframe tbody tr th:only-of-type {\n        vertical-align: middle;\n    }\n\n    .dataframe tbody tr th {\n        vertical-align: top;\n    }\n\n    .dataframe thead th {\n        text-align: right;\n    }\n</style>\n<table border=\"1\" class=\"dataframe\">\n  <thead>\n    <tr style=\"text-align: right;\">\n      <th></th>\n      <th>Reservation-id</th>\n      <th>Gender</th>\n      <th>Age</th>\n      <th>Ethnicity</th>\n      <th>Educational_Level</th>\n      <th>Income</th>\n      <th>Country_region</th>\n      <th>Hotel_Type</th>\n      <th>Expected_checkin</th>\n      <th>Expected_checkout</th>\n      <th>...</th>\n      <th>Meal_Type</th>\n      <th>Visted_Previously</th>\n      <th>Previous_Cancellations</th>\n      <th>Deposit_type</th>\n      <th>Booking_channel</th>\n      <th>Required_Car_Parking</th>\n      <th>Reservation_Status</th>\n      <th>Use_Promotion</th>\n      <th>Discount_Rate</th>\n      <th>Room_Rate</th>\n    </tr>\n  </thead>\n  <tbody>\n    <tr>\n      <th>0</th>\n      <td>39428300</td>\n      <td>F</td>\n      <td>40</td>\n      <td>Latino</td>\n      <td>Grad</td>\n      <td>&lt;25K</td>\n      <td>North</td>\n      <td>City Hotel</td>\n      <td>7/1/2015</td>\n      <td>7/2/2015</td>\n      <td>...</td>\n      <td>BB</td>\n      <td>No</td>\n      <td>No</td>\n      <td>No Deposit</td>\n      <td>Online</td>\n      <td>Yes</td>\n      <td>Check-In</td>\n      <td>Yes</td>\n      <td>10</td>\n      <td>218</td>\n    </tr>\n    <tr>\n      <th>1</th>\n      <td>77491756</td>\n      <td>F</td>\n      <td>49</td>\n      <td>Latino</td>\n      <td>Mid-School</td>\n      <td>50K -- 100K</td>\n      <td>East</td>\n      <td>City Hotel</td>\n      <td>7/1/2015</td>\n      <td>7/2/2015</td>\n      <td>...</td>\n      <td>BB</td>\n      <td>No</td>\n      <td>No</td>\n      <td>Refundable</td>\n      <td>Online</td>\n      <td>Yes</td>\n      <td>Check-In</td>\n      <td>No</td>\n      <td>0</td>\n      <td>185</td>\n    </tr>\n    <tr>\n      <th>2</th>\n      <td>73747291</td>\n      <td>F</td>\n      <td>42</td>\n      <td>caucasian</td>\n      <td>Grad</td>\n      <td>&lt;25K</td>\n      <td>East</td>\n      <td>City Hotel</td>\n      <td>7/2/2015</td>\n      <td>7/6/2015</td>\n      <td>...</td>\n      <td>BB</td>\n      <td>No</td>\n      <td>No</td>\n      <td>No Deposit</td>\n      <td>Online</td>\n      <td>Yes</td>\n      <td>Check-In</td>\n      <td>No</td>\n      <td>0</td>\n      <td>119</td>\n    </tr>\n    <tr>\n      <th>3</th>\n      <td>67301739</td>\n      <td>M</td>\n      <td>25</td>\n      <td>African American</td>\n      <td>College</td>\n      <td>&gt;100K</td>\n      <td>South</td>\n      <td>Airport Hotels</td>\n      <td>7/2/2015</td>\n      <td>7/3/2015</td>\n      <td>...</td>\n      <td>BB</td>\n      <td>No</td>\n      <td>No</td>\n      <td>Refundable</td>\n      <td>Agent</td>\n      <td>Yes</td>\n      <td>Check-In</td>\n      <td>Yes</td>\n      <td>5</td>\n      <td>144</td>\n    </tr>\n    <tr>\n      <th>4</th>\n      <td>77222321</td>\n      <td>F</td>\n      <td>62</td>\n      <td>Latino</td>\n      <td>High-School</td>\n      <td>25K --50K</td>\n      <td>East</td>\n      <td>Resort</td>\n      <td>7/3/2015</td>\n      <td>7/4/2015</td>\n      <td>...</td>\n      <td>BB</td>\n      <td>No</td>\n      <td>No</td>\n      <td>No Deposit</td>\n      <td>Direct</td>\n      <td>No</td>\n      <td>Check-In</td>\n      <td>Yes</td>\n      <td>10</td>\n      <td>242</td>\n    </tr>\n    <tr>\n      <th>5</th>\n      <td>55152245</td>\n      <td>M</td>\n      <td>34</td>\n      <td>African American</td>\n      <td>College</td>\n      <td>&gt;100K</td>\n      <td>North</td>\n      <td>Airport Hotels</td>\n      <td>7/3/2015</td>\n      <td>7/4/2015</td>\n      <td>...</td>\n      <td>BB</td>\n      <td>Yes</td>\n      <td>No</td>\n      <td>No Deposit</td>\n      <td>Online</td>\n      <td>No</td>\n      <td>Check-In</td>\n      <td>Yes</td>\n      <td>10</td>\n      <td>143</td>\n    </tr>\n    <tr>\n      <th>6</th>\n      <td>87139343</td>\n      <td>F</td>\n      <td>53</td>\n      <td>African American</td>\n      <td>High-School</td>\n      <td>&lt;25K</td>\n      <td>East</td>\n      <td>Airport Hotels</td>\n      <td>7/3/2015</td>\n      <td>7/4/2015</td>\n      <td>...</td>\n      <td>BB</td>\n      <td>Yes</td>\n      <td>Yes</td>\n      <td>Refundable</td>\n      <td>Online</td>\n      <td>Yes</td>\n      <td>Check-In</td>\n      <td>Yes</td>\n      <td>25</td>\n      <td>212</td>\n    </tr>\n    <tr>\n      <th>7</th>\n      <td>7647912</td>\n      <td>M</td>\n      <td>40</td>\n      <td>Latino</td>\n      <td>Mid-School</td>\n      <td>&gt;100K</td>\n      <td>North</td>\n      <td>City Hotel</td>\n      <td>7/3/2015</td>\n      <td>7/4/2015</td>\n      <td>...</td>\n      <td>FB</td>\n      <td>No</td>\n      <td>No</td>\n      <td>No Deposit</td>\n      <td>Online</td>\n      <td>Yes</td>\n      <td>Check-In</td>\n      <td>No</td>\n      <td>0</td>\n      <td>170</td>\n    </tr>\n    <tr>\n      <th>8</th>\n      <td>94296865</td>\n      <td>M</td>\n      <td>59</td>\n      <td>African American</td>\n      <td>Mid-School</td>\n      <td>&gt;100K</td>\n      <td>West</td>\n      <td>Resort</td>\n      <td>5/6/2015</td>\n      <td>5/7/2015</td>\n      <td>...</td>\n      <td>BB</td>\n      <td>No</td>\n      <td>No</td>\n      <td>Non-Refundable</td>\n      <td>Direct</td>\n      <td>Yes</td>\n      <td>Check-In</td>\n      <td>Yes</td>\n      <td>10</td>\n      <td>245</td>\n    </tr>\n    <tr>\n      <th>9</th>\n      <td>93087487</td>\n      <td>M</td>\n      <td>21</td>\n      <td>Latino</td>\n      <td>Grad</td>\n      <td>50K -- 100K</td>\n      <td>West</td>\n      <td>City Hotel</td>\n      <td>4/22/2015</td>\n      <td>4/25/2015</td>\n      <td>...</td>\n      <td>HB</td>\n      <td>Yes</td>\n      <td>No</td>\n      <td>Refundable</td>\n      <td>Online</td>\n      <td>No</td>\n      <td>Check-In</td>\n      <td>Yes</td>\n      <td>20</td>\n      <td>212</td>\n    </tr>\n  </tbody>\n</table>\n<p>10 rows × 24 columns</p>\n</div>"
     },
     "metadata": {},
     "execution_count": 3
    }
   ]
  },
  {
   "cell_type": "code",
   "execution_count": 4,
   "metadata": {},
   "outputs": [
    {
     "output_type": "stream",
     "name": "stdout",
     "text": [
      "24\n"
     ]
    },
    {
     "output_type": "execute_result",
     "data": {
      "text/plain": [
       "Index(['Reservation-id', 'Gender', 'Age', 'Ethnicity', 'Educational_Level',\n",
       "       'Income', 'Country_region', 'Hotel_Type', 'Expected_checkin',\n",
       "       'Expected_checkout', 'Booking_date', 'Adults', 'Children', 'Babies',\n",
       "       'Meal_Type', 'Visted_Previously', 'Previous_Cancellations',\n",
       "       'Deposit_type', 'Booking_channel', 'Required_Car_Parking',\n",
       "       'Reservation_Status', 'Use_Promotion', 'Discount_Rate', 'Room_Rate'],\n",
       "      dtype='object')"
      ]
     },
     "metadata": {},
     "execution_count": 4
    }
   ],
   "source": [
    "train_headers = train_data.columns\n",
    "print(len(train_headers))\n",
    "train_headers"
   ]
  },
  {
   "source": [
    "## Data Formatting"
   ],
   "cell_type": "markdown",
   "metadata": {}
  },
  {
   "cell_type": "code",
   "execution_count": 6,
   "metadata": {},
   "outputs": [
    {
     "output_type": "stream",
     "name": "stdout",
     "text": [
      "Total Fields = 24\n"
     ]
    },
    {
     "output_type": "execute_result",
     "data": {
      "text/plain": [
       "   Reservation_Status_Canceled  Reservation_Status_Check-In  \\\n",
       "0                            0                            0   \n",
       "1                            1                            0   \n",
       "2                            1                            0   \n",
       "3                            0                            1   \n",
       "4                            0                            1   \n",
       "5                            1                            0   \n",
       "6                            0                            0   \n",
       "7                            1                            0   \n",
       "8                            0                            1   \n",
       "9                            0                            1   \n",
       "\n",
       "   Reservation_Status_No-Show  \n",
       "0                           1  \n",
       "1                           0  \n",
       "2                           0  \n",
       "3                           0  \n",
       "4                           0  \n",
       "5                           0  \n",
       "6                           1  \n",
       "7                           0  \n",
       "8                           0  \n",
       "9                           0  "
      ],
      "text/html": "<div>\n<style scoped>\n    .dataframe tbody tr th:only-of-type {\n        vertical-align: middle;\n    }\n\n    .dataframe tbody tr th {\n        vertical-align: top;\n    }\n\n    .dataframe thead th {\n        text-align: right;\n    }\n</style>\n<table border=\"1\" class=\"dataframe\">\n  <thead>\n    <tr style=\"text-align: right;\">\n      <th></th>\n      <th>Reservation_Status_Canceled</th>\n      <th>Reservation_Status_Check-In</th>\n      <th>Reservation_Status_No-Show</th>\n    </tr>\n  </thead>\n  <tbody>\n    <tr>\n      <th>0</th>\n      <td>0</td>\n      <td>0</td>\n      <td>1</td>\n    </tr>\n    <tr>\n      <th>1</th>\n      <td>1</td>\n      <td>0</td>\n      <td>0</td>\n    </tr>\n    <tr>\n      <th>2</th>\n      <td>1</td>\n      <td>0</td>\n      <td>0</td>\n    </tr>\n    <tr>\n      <th>3</th>\n      <td>0</td>\n      <td>1</td>\n      <td>0</td>\n    </tr>\n    <tr>\n      <th>4</th>\n      <td>0</td>\n      <td>1</td>\n      <td>0</td>\n    </tr>\n    <tr>\n      <th>5</th>\n      <td>1</td>\n      <td>0</td>\n      <td>0</td>\n    </tr>\n    <tr>\n      <th>6</th>\n      <td>0</td>\n      <td>0</td>\n      <td>1</td>\n    </tr>\n    <tr>\n      <th>7</th>\n      <td>1</td>\n      <td>0</td>\n      <td>0</td>\n    </tr>\n    <tr>\n      <th>8</th>\n      <td>0</td>\n      <td>1</td>\n      <td>0</td>\n    </tr>\n    <tr>\n      <th>9</th>\n      <td>0</td>\n      <td>1</td>\n      <td>0</td>\n    </tr>\n  </tbody>\n</table>\n</div>"
     },
     "metadata": {},
     "execution_count": 6
    }
   ],
   "source": [
    "from sklearn.model_selection import train_test_split\n",
    "from sklearn.preprocessing import RobustScaler\n",
    "\n",
    "# columns\n",
    "cat_data = ['Gender','Ethnicity','Educational_Level','Income','Country_region','Hotel_Type','Meal_Type','Visted_Previously','Previous_Cancellations','Deposit_type','Booking_channel','Required_Car_Parking','Reservation_Status','Use_Promotion']\n",
    "num_data = ['Age', 'Adults', 'Children', 'Babies', 'Discount_Rate', 'Room_Rate']\n",
    "y_data = ['Reservation_Status_Canceled','Reservation_Status_Check-In','Reservation_Status_No-Show']\n",
    "\n",
    "drop_data = ['Reservation-id','Expected_checkin', 'Expected_checkout', 'Booking_date']\n",
    "\n",
    "for element in drop_data:\n",
    "    if element in cat_data:\n",
    "        cat_data.remove(element)\n",
    "    if element in num_data:\n",
    "        num_data.remove(element)\n",
    "\n",
    "print(\"Total Fields =\", len(cat_data + drop_data + num_data))\n",
    "\n",
    "def format_data(data_set, is_test=False):\n",
    "    if(is_test and ('Reservation_Status' in cat_data)):\n",
    "        cat_data.remove('Reservation_Status')\n",
    "\n",
    "    f_data_set = pd.get_dummies(data_set, prefix=cat_data, columns=cat_data)\n",
    "    f_data_set = f_data_set.drop(drop_data, axis = 1)\n",
    "    if(is_test):\n",
    "        x = f_data_set\n",
    "        return x\n",
    "    else:\n",
    "        x = f_data_set.drop(y_data, axis = 1)\n",
    "        y = f_data_set[y_data]\n",
    "        return x, y\n",
    "\n",
    "x_train, y_train = format_data(train_data)\n",
    "x_val, y_val = format_data(validation_data)\n",
    "x_test = format_data(test_data, is_test=True)\n",
    "\n",
    "# x_val1, x_val2, y_val1, y_val2 = train_test_split(x_val, y_val, test_size=0.8, random_state=10)\n",
    "\n",
    "y_val.head(10)"
   ]
  },
  {
   "source": [
    "## Normalize Data"
   ],
   "cell_type": "markdown",
   "metadata": {}
  },
  {
   "cell_type": "code",
   "execution_count": 7,
   "metadata": {},
   "outputs": [
    {
     "output_type": "execute_result",
     "data": {
      "text/plain": [
       "        Age  Adults  Children  Babies  Discount_Rate  Room_Rate  Gender_F  \\\n",
       "0  0.423077    0.25       0.5     0.0          0.250   0.786667       1.0   \n",
       "1  0.596154    0.50       1.0     0.0          0.000   0.566667       1.0   \n",
       "2  0.461538    0.50       1.0     0.0          0.000   0.126667       1.0   \n",
       "3  0.134615    0.75       1.0     0.0          0.125   0.293333       0.0   \n",
       "4  0.846154    0.00       0.0     0.0          0.250   0.946667       1.0   \n",
       "5  0.307692    1.00       0.5     0.5          0.250   0.286667       0.0   \n",
       "6  0.673077    0.25       0.0     0.0          0.625   0.746667       1.0   \n",
       "7  0.423077    0.25       0.0     0.0          0.000   0.466667       0.0   \n",
       "8  0.788462    0.50       0.5     0.0          0.250   0.966667       0.0   \n",
       "9  0.057692    0.25       1.0     0.0          0.500   0.746667       0.0   \n",
       "\n",
       "   Gender_M  Ethnicity_African American  Ethnicity_Asian American  ...  \\\n",
       "0       0.0                         0.0                       0.0  ...   \n",
       "1       0.0                         0.0                       0.0  ...   \n",
       "2       0.0                         0.0                       0.0  ...   \n",
       "3       1.0                         1.0                       0.0  ...   \n",
       "4       0.0                         0.0                       0.0  ...   \n",
       "5       1.0                         1.0                       0.0  ...   \n",
       "6       0.0                         1.0                       0.0  ...   \n",
       "7       1.0                         0.0                       0.0  ...   \n",
       "8       1.0                         1.0                       0.0  ...   \n",
       "9       1.0                         0.0                       0.0  ...   \n",
       "\n",
       "   Deposit_type_No Deposit  Deposit_type_Non-Refundable  \\\n",
       "0                      1.0                          0.0   \n",
       "1                      0.0                          0.0   \n",
       "2                      1.0                          0.0   \n",
       "3                      0.0                          0.0   \n",
       "4                      1.0                          0.0   \n",
       "5                      1.0                          0.0   \n",
       "6                      0.0                          0.0   \n",
       "7                      1.0                          0.0   \n",
       "8                      0.0                          1.0   \n",
       "9                      0.0                          0.0   \n",
       "\n",
       "   Deposit_type_Refundable  Booking_channel_Agent  Booking_channel_Direct  \\\n",
       "0                      0.0                    0.0                     0.0   \n",
       "1                      1.0                    0.0                     0.0   \n",
       "2                      0.0                    0.0                     0.0   \n",
       "3                      1.0                    1.0                     0.0   \n",
       "4                      0.0                    0.0                     1.0   \n",
       "5                      0.0                    0.0                     0.0   \n",
       "6                      1.0                    0.0                     0.0   \n",
       "7                      0.0                    0.0                     0.0   \n",
       "8                      0.0                    0.0                     1.0   \n",
       "9                      1.0                    0.0                     0.0   \n",
       "\n",
       "   Booking_channel_Online  Required_Car_Parking_No  Required_Car_Parking_Yes  \\\n",
       "0                     1.0                      0.0                       1.0   \n",
       "1                     1.0                      0.0                       1.0   \n",
       "2                     1.0                      0.0                       1.0   \n",
       "3                     0.0                      0.0                       1.0   \n",
       "4                     0.0                      1.0                       0.0   \n",
       "5                     1.0                      1.0                       0.0   \n",
       "6                     1.0                      0.0                       1.0   \n",
       "7                     1.0                      0.0                       1.0   \n",
       "8                     0.0                      0.0                       1.0   \n",
       "9                     1.0                      1.0                       0.0   \n",
       "\n",
       "   Use_Promotion_No  Use_Promotion_Yes  \n",
       "0               0.0                1.0  \n",
       "1               1.0                0.0  \n",
       "2               1.0                0.0  \n",
       "3               0.0                1.0  \n",
       "4               0.0                1.0  \n",
       "5               0.0                1.0  \n",
       "6               0.0                1.0  \n",
       "7               1.0                0.0  \n",
       "8               0.0                1.0  \n",
       "9               0.0                1.0  \n",
       "\n",
       "[10 rows x 44 columns]"
      ],
      "text/html": "<div>\n<style scoped>\n    .dataframe tbody tr th:only-of-type {\n        vertical-align: middle;\n    }\n\n    .dataframe tbody tr th {\n        vertical-align: top;\n    }\n\n    .dataframe thead th {\n        text-align: right;\n    }\n</style>\n<table border=\"1\" class=\"dataframe\">\n  <thead>\n    <tr style=\"text-align: right;\">\n      <th></th>\n      <th>Age</th>\n      <th>Adults</th>\n      <th>Children</th>\n      <th>Babies</th>\n      <th>Discount_Rate</th>\n      <th>Room_Rate</th>\n      <th>Gender_F</th>\n      <th>Gender_M</th>\n      <th>Ethnicity_African American</th>\n      <th>Ethnicity_Asian American</th>\n      <th>...</th>\n      <th>Deposit_type_No Deposit</th>\n      <th>Deposit_type_Non-Refundable</th>\n      <th>Deposit_type_Refundable</th>\n      <th>Booking_channel_Agent</th>\n      <th>Booking_channel_Direct</th>\n      <th>Booking_channel_Online</th>\n      <th>Required_Car_Parking_No</th>\n      <th>Required_Car_Parking_Yes</th>\n      <th>Use_Promotion_No</th>\n      <th>Use_Promotion_Yes</th>\n    </tr>\n  </thead>\n  <tbody>\n    <tr>\n      <th>0</th>\n      <td>0.423077</td>\n      <td>0.25</td>\n      <td>0.5</td>\n      <td>0.0</td>\n      <td>0.250</td>\n      <td>0.786667</td>\n      <td>1.0</td>\n      <td>0.0</td>\n      <td>0.0</td>\n      <td>0.0</td>\n      <td>...</td>\n      <td>1.0</td>\n      <td>0.0</td>\n      <td>0.0</td>\n      <td>0.0</td>\n      <td>0.0</td>\n      <td>1.0</td>\n      <td>0.0</td>\n      <td>1.0</td>\n      <td>0.0</td>\n      <td>1.0</td>\n    </tr>\n    <tr>\n      <th>1</th>\n      <td>0.596154</td>\n      <td>0.50</td>\n      <td>1.0</td>\n      <td>0.0</td>\n      <td>0.000</td>\n      <td>0.566667</td>\n      <td>1.0</td>\n      <td>0.0</td>\n      <td>0.0</td>\n      <td>0.0</td>\n      <td>...</td>\n      <td>0.0</td>\n      <td>0.0</td>\n      <td>1.0</td>\n      <td>0.0</td>\n      <td>0.0</td>\n      <td>1.0</td>\n      <td>0.0</td>\n      <td>1.0</td>\n      <td>1.0</td>\n      <td>0.0</td>\n    </tr>\n    <tr>\n      <th>2</th>\n      <td>0.461538</td>\n      <td>0.50</td>\n      <td>1.0</td>\n      <td>0.0</td>\n      <td>0.000</td>\n      <td>0.126667</td>\n      <td>1.0</td>\n      <td>0.0</td>\n      <td>0.0</td>\n      <td>0.0</td>\n      <td>...</td>\n      <td>1.0</td>\n      <td>0.0</td>\n      <td>0.0</td>\n      <td>0.0</td>\n      <td>0.0</td>\n      <td>1.0</td>\n      <td>0.0</td>\n      <td>1.0</td>\n      <td>1.0</td>\n      <td>0.0</td>\n    </tr>\n    <tr>\n      <th>3</th>\n      <td>0.134615</td>\n      <td>0.75</td>\n      <td>1.0</td>\n      <td>0.0</td>\n      <td>0.125</td>\n      <td>0.293333</td>\n      <td>0.0</td>\n      <td>1.0</td>\n      <td>1.0</td>\n      <td>0.0</td>\n      <td>...</td>\n      <td>0.0</td>\n      <td>0.0</td>\n      <td>1.0</td>\n      <td>1.0</td>\n      <td>0.0</td>\n      <td>0.0</td>\n      <td>0.0</td>\n      <td>1.0</td>\n      <td>0.0</td>\n      <td>1.0</td>\n    </tr>\n    <tr>\n      <th>4</th>\n      <td>0.846154</td>\n      <td>0.00</td>\n      <td>0.0</td>\n      <td>0.0</td>\n      <td>0.250</td>\n      <td>0.946667</td>\n      <td>1.0</td>\n      <td>0.0</td>\n      <td>0.0</td>\n      <td>0.0</td>\n      <td>...</td>\n      <td>1.0</td>\n      <td>0.0</td>\n      <td>0.0</td>\n      <td>0.0</td>\n      <td>1.0</td>\n      <td>0.0</td>\n      <td>1.0</td>\n      <td>0.0</td>\n      <td>0.0</td>\n      <td>1.0</td>\n    </tr>\n    <tr>\n      <th>5</th>\n      <td>0.307692</td>\n      <td>1.00</td>\n      <td>0.5</td>\n      <td>0.5</td>\n      <td>0.250</td>\n      <td>0.286667</td>\n      <td>0.0</td>\n      <td>1.0</td>\n      <td>1.0</td>\n      <td>0.0</td>\n      <td>...</td>\n      <td>1.0</td>\n      <td>0.0</td>\n      <td>0.0</td>\n      <td>0.0</td>\n      <td>0.0</td>\n      <td>1.0</td>\n      <td>1.0</td>\n      <td>0.0</td>\n      <td>0.0</td>\n      <td>1.0</td>\n    </tr>\n    <tr>\n      <th>6</th>\n      <td>0.673077</td>\n      <td>0.25</td>\n      <td>0.0</td>\n      <td>0.0</td>\n      <td>0.625</td>\n      <td>0.746667</td>\n      <td>1.0</td>\n      <td>0.0</td>\n      <td>1.0</td>\n      <td>0.0</td>\n      <td>...</td>\n      <td>0.0</td>\n      <td>0.0</td>\n      <td>1.0</td>\n      <td>0.0</td>\n      <td>0.0</td>\n      <td>1.0</td>\n      <td>0.0</td>\n      <td>1.0</td>\n      <td>0.0</td>\n      <td>1.0</td>\n    </tr>\n    <tr>\n      <th>7</th>\n      <td>0.423077</td>\n      <td>0.25</td>\n      <td>0.0</td>\n      <td>0.0</td>\n      <td>0.000</td>\n      <td>0.466667</td>\n      <td>0.0</td>\n      <td>1.0</td>\n      <td>0.0</td>\n      <td>0.0</td>\n      <td>...</td>\n      <td>1.0</td>\n      <td>0.0</td>\n      <td>0.0</td>\n      <td>0.0</td>\n      <td>0.0</td>\n      <td>1.0</td>\n      <td>0.0</td>\n      <td>1.0</td>\n      <td>1.0</td>\n      <td>0.0</td>\n    </tr>\n    <tr>\n      <th>8</th>\n      <td>0.788462</td>\n      <td>0.50</td>\n      <td>0.5</td>\n      <td>0.0</td>\n      <td>0.250</td>\n      <td>0.966667</td>\n      <td>0.0</td>\n      <td>1.0</td>\n      <td>1.0</td>\n      <td>0.0</td>\n      <td>...</td>\n      <td>0.0</td>\n      <td>1.0</td>\n      <td>0.0</td>\n      <td>0.0</td>\n      <td>1.0</td>\n      <td>0.0</td>\n      <td>0.0</td>\n      <td>1.0</td>\n      <td>0.0</td>\n      <td>1.0</td>\n    </tr>\n    <tr>\n      <th>9</th>\n      <td>0.057692</td>\n      <td>0.25</td>\n      <td>1.0</td>\n      <td>0.0</td>\n      <td>0.500</td>\n      <td>0.746667</td>\n      <td>0.0</td>\n      <td>1.0</td>\n      <td>0.0</td>\n      <td>0.0</td>\n      <td>...</td>\n      <td>0.0</td>\n      <td>0.0</td>\n      <td>1.0</td>\n      <td>0.0</td>\n      <td>0.0</td>\n      <td>1.0</td>\n      <td>1.0</td>\n      <td>0.0</td>\n      <td>0.0</td>\n      <td>1.0</td>\n    </tr>\n  </tbody>\n</table>\n<p>10 rows × 44 columns</p>\n</div>"
     },
     "metadata": {},
     "execution_count": 7
    }
   ],
   "source": [
    "from sklearn.preprocessing import MinMaxScaler\n",
    "\n",
    "scaler = MinMaxScaler()\n",
    "\n",
    "x_train = pd.DataFrame(scaler.fit_transform(x_train), columns=x_train.columns)\n",
    "x_val = pd.DataFrame(scaler.transform(x_val), columns=x_val.columns)\n",
    "x_test = pd.DataFrame(scaler.transform(x_test), columns=x_test.columns)\n",
    "\n",
    "x_train.head(10)"
   ]
  },
  {
   "cell_type": "code",
   "execution_count": 8,
   "metadata": {},
   "outputs": [],
   "source": [
    "corr = x_train.join(y_train).corr()\n",
    "\n",
    "# corr.style.background_gradient(cmap='coolwarm')"
   ]
  },
  {
   "source": [
    "## Model Training"
   ],
   "cell_type": "markdown",
   "metadata": {}
  },
  {
   "cell_type": "code",
   "execution_count": 9,
   "metadata": {},
   "outputs": [
    {
     "output_type": "execute_result",
     "data": {
      "text/plain": [
       "0.5394688977810113"
      ]
     },
     "metadata": {},
     "execution_count": 9
    }
   ],
   "source": [
    "from sklearn.ensemble import RandomForestClassifier\n",
    "\n",
    "classifier = RandomForestClassifier(n_estimators=15, random_state=0)\n",
    "classifier.fit(x_train, y_train)\n",
    "\n",
    "classifier.score(x_val, y_val)"
   ]
  },
  {
   "cell_type": "code",
   "execution_count": 10,
   "metadata": {},
   "outputs": [
    {
     "output_type": "execute_result",
     "data": {
      "text/plain": [
       "0.24690423195426978"
      ]
     },
     "metadata": {},
     "execution_count": 10
    }
   ],
   "source": [
    "from sklearn.metrics import f1_score\n",
    "\n",
    "y_pred = classifier.predict(x_val)\n",
    "\n",
    "f1_score(y_val, y_pred, average='macro')"
   ]
  },
  {
   "source": [
    "## Inference"
   ],
   "cell_type": "markdown",
   "metadata": {}
  },
  {
   "cell_type": "code",
   "execution_count": 11,
   "metadata": {},
   "outputs": [
    {
     "output_type": "execute_result",
     "data": {
      "text/plain": [
       "array([[0, 1, 0],\n",
       "       [0, 1, 0],\n",
       "       [0, 1, 0],\n",
       "       ...,\n",
       "       [0, 1, 0],\n",
       "       [0, 1, 0],\n",
       "       [0, 1, 0]], dtype=uint8)"
      ]
     },
     "metadata": {},
     "execution_count": 11
    }
   ],
   "source": [
    "y_test = classifier.predict(x_test)\n",
    "\n",
    "y_test"
   ]
  },
  {
   "cell_type": "code",
   "execution_count": 29,
   "metadata": {},
   "outputs": [],
   "source": [
    "\n",
    "df = pd.DataFrame(y_test, columns=[2,1,3]).idxmax(axis=1)\n",
    "df.index = test_data['Reservation-id']\n",
    "df.to_csv('results/Submission.csv', header=['Reservation_status'])\n"
   ]
  },
  {
   "cell_type": "code",
   "execution_count": null,
   "metadata": {},
   "outputs": [],
   "source": []
  }
 ]
}